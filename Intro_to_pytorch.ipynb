{
  "nbformat": 4,
  "nbformat_minor": 0,
  "metadata": {
    "colab": {
      "provenance": [],
      "gpuType": "T4",
      "authorship_tag": "ABX9TyNspLfchQdytQVT/ZEyFCu1",
      "include_colab_link": true
    },
    "kernelspec": {
      "name": "python3",
      "display_name": "Python 3"
    },
    "language_info": {
      "name": "python"
    },
    "accelerator": "GPU"
  },
  "cells": [
    {
      "cell_type": "markdown",
      "metadata": {
        "id": "view-in-github",
        "colab_type": "text"
      },
      "source": [
        "<a href=\"https://colab.research.google.com/github/KaranKendre11/pytorch-learning/blob/main/Intro_to_pytorch.ipynb\" target=\"_parent\"><img src=\"https://colab.research.google.com/assets/colab-badge.svg\" alt=\"Open In Colab\"/></a>"
      ]
    },
    {
      "cell_type": "code",
      "execution_count": 4,
      "metadata": {
        "id": "CeNUuxNmppjt"
      },
      "outputs": [],
      "source": [
        "import torch\n",
        "import numpy as np"
      ]
    },
    {
      "cell_type": "markdown",
      "source": [],
      "metadata": {
        "id": "jhqsJkSdpp_W"
      }
    },
    {
      "cell_type": "code",
      "source": [
        "my_list = [[1,2,3,4],[5,6,7,8]]\n",
        "my_list"
      ],
      "metadata": {
        "colab": {
          "base_uri": "https://localhost:8080/"
        },
        "id": "IgRJIE6ytKG2",
        "outputId": "8ec5f830-c43b-4990-c839-aff4ab677c43"
      },
      "execution_count": 5,
      "outputs": [
        {
          "output_type": "execute_result",
          "data": {
            "text/plain": [
              "[[1, 2, 3, 4], [5, 6, 7, 8]]"
            ]
          },
          "metadata": {},
          "execution_count": 5
        }
      ]
    },
    {
      "cell_type": "code",
      "source": [
        "# Numpy arrays\n",
        "np1 = np.random.randint(low=2, high=6,size=(3,4))\n",
        "np1"
      ],
      "metadata": {
        "colab": {
          "base_uri": "https://localhost:8080/"
        },
        "id": "qpz2UVS-tPp5",
        "outputId": "d0e890c4-5ba9-45a6-9426-dbeb8d74288f"
      },
      "execution_count": 10,
      "outputs": [
        {
          "output_type": "execute_result",
          "data": {
            "text/plain": [
              "array([[5, 5, 4, 5],\n",
              "       [5, 3, 2, 4],\n",
              "       [3, 4, 2, 2]])"
            ]
          },
          "metadata": {},
          "execution_count": 10
        }
      ]
    },
    {
      "cell_type": "code",
      "source": [
        "# Tensors [powerful than numpy]\n",
        "tensor_2d = torch.rand(3,4)\n",
        "tensor_2d"
      ],
      "metadata": {
        "colab": {
          "base_uri": "https://localhost:8080/"
        },
        "id": "bMOyVH_CtyAe",
        "outputId": "2517a4d2-e1f4-45f9-cbda-62fd30973cda"
      },
      "execution_count": 11,
      "outputs": [
        {
          "output_type": "execute_result",
          "data": {
            "text/plain": [
              "tensor([[0.8316, 0.4992, 0.6732, 0.1559],\n",
              "        [0.5667, 0.7667, 0.4736, 0.1928],\n",
              "        [0.8004, 0.3399, 0.7853, 0.2955]])"
            ]
          },
          "metadata": {},
          "execution_count": 11
        }
      ]
    },
    {
      "cell_type": "code",
      "source": [
        "# Conversion from numpy - > tensor\n",
        "my_tensor = torch.tensor(np1)\n",
        "my_tensor"
      ],
      "metadata": {
        "colab": {
          "base_uri": "https://localhost:8080/"
        },
        "id": "xwSSFg7Ruly3",
        "outputId": "a3837524-7f4f-4396-968f-38264c4f614e"
      },
      "execution_count": 12,
      "outputs": [
        {
          "output_type": "execute_result",
          "data": {
            "text/plain": [
              "tensor([[5, 5, 4, 5],\n",
              "        [5, 3, 2, 4],\n",
              "        [3, 4, 2, 2]])"
            ]
          },
          "metadata": {},
          "execution_count": 12
        }
      ]
    },
    {
      "cell_type": "code",
      "source": [],
      "metadata": {
        "id": "eH-ZDGRtu_cq"
      },
      "execution_count": null,
      "outputs": []
    }
  ]
}